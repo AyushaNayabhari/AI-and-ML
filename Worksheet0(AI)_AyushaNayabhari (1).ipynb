{
  "cells": [
    {
      "cell_type": "markdown",
      "metadata": {
        "id": "_SGRKeLn4Y1X"
      },
      "source": [
        "Task - 1:\n",
        "Create a Python program that converts between different units of measurement.\n",
        "• The program should:\n",
        "1. Prompt the user to choose the type of conversion (e.g., length, weight, volume).\n",
        "2. Ask the user to input the value to be converted.\n",
        "3. Perform the conversion and display the result.\n",
        "4. Handle potential errors, such as invalid input or unsupported conversion types.\n",
        "\n",
        "• Requirements:\n",
        "1. Functions: Define at least one function to perform the conversion.\n",
        "2. Error Handling: Use try-except blocks to handle invalid input (e.g., non-numeric values).\n",
        "3. User Input: Prompt the user to select the conversion type and input the value.\n",
        "4. Docstrings: Include a docstring in your function to describe its purpose, parameters, and\n",
        "return value.\n",
        "\n",
        "• Conversion Options:\n",
        "1. Length:\n",
        "\n",
        "– Convert meters (m) to feet (ft).\n",
        "\n",
        "– Convert feet (ft) to meters (m).\n",
        "2. Weight:\n",
        "\n",
        "– Convert kilograms (kg) to pounds (lbs).\n",
        "\n",
        "– Convert pounds (lbs) to kilograms (kg).\n",
        "3. Volume:\n",
        "\n",
        "– Convert liters (L) to gallons (gal).\n",
        "\n",
        "– Convert gallons (gal) to liters (L)."
      ]
    },
    {
      "cell_type": "code",
      "execution_count": null,
      "metadata": {
        "id": "tsN3iJ6k4qSC"
      },
      "outputs": [],
      "source": [
        "def unit_converter():\n",
        "    \"\"\"Converts between different units of measurement based on user choice.\"\"\"\n",
        "    print(\"Welcome to the Unit Converter!\")\n",
        "    print(\"Please choose a conversion type:\")\n",
        "    conversions = {\n",
        "        \"1\": (\"Meters to Feet\", lambda x: x * 3.28084),\n",
        "        \"2\": (\"Feet to Meters\", lambda x: x / 3.28084),\n",
        "        \"3\": (\"Kilograms to Pounds\", lambda x: x * 2.20462),\n",
        "        \"4\": (\"Pounds to Kilograms\", lambda x: x / 2.20462),\n",
        "        \"5\": (\"Liters to Gallons\", lambda x: x * 0.264172),\n",
        "        \"6\": (\"Gallons to Liters\", lambda x: x / 0.264172),\n",
        "    }\n",
        "    while True:\n",
        "        # Display conversion options\n",
        "        print(\"\\nChoose a conversion type:\")\n",
        "        for key, (desc, _) in conversions.items():\n",
        "            print(f\"{key}. {desc}\")\n",
        "        choice = input(\"Enter 1, 2, 3, 4, 5, or 6: \").strip()\n",
        "        if choice not in conversions:\n",
        "            print(\"Invalid choice. Please try again.\")\n",
        "            continue  # Restart the loop\n",
        "        try:\n",
        "            value = float(input(\"Enter the value to convert: \").strip())\n",
        "            print(f\"Converted Value: {conversions[choice][1](value):.4f}\")  # Format output to 4 decimals\n",
        "        except ValueError:\n",
        "            print(\"Invalid input. Please enter a numeric value.\")\n",
        "            continue  # Restart the loop\n",
        "        # Ask the user if they want to perform another conversion\n",
        "        restart = input(\"Would you like to perform another operation? (yes/no): \").strip().lower()\n",
        "        if restart != \"yes\":\n",
        "            print(\"Exiting the unit converter. Goodbye!\")\n",
        "            break"
      ]
    },
    {
      "cell_type": "code",
      "execution_count": null,
      "metadata": {
        "colab": {
          "base_uri": "https://localhost:8080/"
        },
        "id": "tDNWLkj8v-5v",
        "outputId": "dc2fec86-5d87-487a-afcd-570abcaa24c5"
      },
      "outputs": [
        {
          "name": "stdout",
          "output_type": "stream",
          "text": [
            "Welcome to the Unit Converter!\n",
            "Please choose a conversion type:\n",
            "\n",
            "Choose a conversion type:\n",
            "1. Meters to Feet\n",
            "2. Feet to Meters\n",
            "3. Kilograms to Pounds\n",
            "4. Pounds to Kilograms\n",
            "5. Liters to Gallons\n",
            "6. Gallons to Liters\n"
          ]
        }
      ],
      "source": [
        "unit_converter()"
      ]
    },
    {
      "cell_type": "markdown",
      "metadata": {
        "id": "HFh5JRhPTUfR"
      },
      "source": [
        "Task - 2:\n",
        "Create a Python program that performs various mathematical operations on a list of numbers.\n",
        "• The Program should:\n",
        "1. Prompt the user to choose an operation (e.g., find the sum, average, maximum, or minimum\n",
        "of the numbers).\n",
        "2. Ask the user to input a list of numbers (separated by spaces).\n",
        "\n",
        "18\n",
        "\n",
        "6CS012 Worksheet - 0 Siman Giri\n",
        "\n",
        "3. Perform the selected operation and display the result.\n",
        "4. Handle potential errors, such as invalid input or empty lists.\n",
        "• Requirements:\n",
        "\n",
        "1. Functions: Define at least one function for each operation (sum, average, maximum, mini-\n",
        "mum).\n",
        "\n",
        "2. Error Handling: Use try-except blocks to handle invalid input (e.g., non-numeric values or\n",
        "empty lists).\n",
        "3. User Input: Prompt the user to select the operation and input the list of numbers.\n",
        "4. Docstrings: Include a docstring in each function to describe its purpose, parameters, and\n",
        "return value."
      ]
    },
    {
      "cell_type": "code",
      "execution_count": null,
      "metadata": {
        "id": "Vg99fQaPUr3e"
      },
      "outputs": [],
      "source": [
        "def list_operations():\n",
        "    \"\"\"Performs basic math operations (sum, average, max, min) on a list of numbers.\"\"\"\n",
        "    print(\"Choose an operation:\")\n",
        "    print(\"1. Sum\")\n",
        "    print(\"2. Average\")\n",
        "    print(\"3. Maximum\")\n",
        "    print(\"4. Minimum\")\n",
        "    choice = input(\"Enter 1, 2, 3, or 4: \")\n",
        "    if choice not in [\"1\", \"2\", \"3\", \"4\"]:\n",
        "        print(\"Invalid choice.\")\n",
        "        return\n",
        "    try:\n",
        "        numbers = list(map(float, input(\"Enter numbers separated by space: \").split()))\n",
        "        if not numbers:\n",
        "            print(\"Error: List is empty.\")\n",
        "            return\n",
        "        if choice == \"1\":\n",
        "            print(\"Sum:\", sum(numbers))\n",
        "        elif choice == \"2\":\n",
        "            print(\"Average:\", sum(numbers) / len(numbers))\n",
        "        elif choice == \"3\":\n",
        "            print(\"Maximum:\", max(numbers))\n",
        "        elif choice == \"4\":\n",
        "            print(\"Minimum:\", min(numbers))\n",
        "    except ValueError:\n",
        "        print(\"Invalid input. Please enter numeric values.\")"
      ]
    },
    {
      "cell_type": "code",
      "execution_count": null,
      "metadata": {
        "colab": {
          "background_save": true,
          "base_uri": "https://localhost:8080/"
        },
        "id": "PNgyJH9ewVwD",
        "outputId": "b784d406-f022-4652-a55d-4b7ab953a9a0"
      },
      "outputs": [
        {
          "name": "stdout",
          "output_type": "stream",
          "text": [
            "Choose an operation:\n",
            "1. Sum\n",
            "2. Average\n",
            "3. Maximum\n",
            "4. Minimum\n"
          ]
        }
      ],
      "source": [
        "list_operations()"
      ]
    },
    {
      "cell_type": "markdown",
      "metadata": {
        "id": "EamC-vLkc3wX"
      },
      "source": [
        "4.2 Exercise on List Manipulation:\n",
        "\n",
        "1. Extract Every Other Element:\n",
        "Write a Python function that extracts every other element from a list, starting from the first element.\n",
        "\n",
        "• Requirements:\n",
        "\n",
        "– Define a function extract every other(lst) that takes a list lst as input and returns a\n",
        "new list containing every other element from the original list.\n",
        "– Example: For the input [1, 2, 3, 4, 5, 6], the output should be [1, 3, 5]."
      ]
    },
    {
      "cell_type": "code",
      "execution_count": null,
      "metadata": {
        "id": "9mHu61SBddvJ",
        "colab": {
          "base_uri": "https://localhost:8080/"
        },
        "outputId": "12de41bd-b88e-45af-c7e9-115a7388a53e"
      },
      "outputs": [
        {
          "output_type": "stream",
          "name": "stdout",
          "text": [
            "[1, 5, 8]\n"
          ]
        }
      ],
      "source": [
        "def extract_every_other(lst):\n",
        "    \"\"\"\n",
        "    Extracts every other element from a list, starting from the first element.\n",
        "    Parameters:\n",
        "        lst (list): The input list.\n",
        "    Returns:\n",
        "        list: A new list containing every other element from the original list.\n",
        "    \"\"\"\n",
        "    return lst[::2]\n",
        "New_list = [1, 3, 5, 7, 8, 9]\n",
        "Extract_list = extract_every_other(New_list)\n",
        "print(Extract_list)"
      ]
    },
    {
      "cell_type": "markdown",
      "metadata": {
        "id": "jvxVxWG4fRIt"
      },
      "source": [
        "2. Slice a Sublist:\n",
        "\n",
        "Write a Python function that returns a sublist from a given list, starting from a specified index and\n",
        "ending at another specified index.\n",
        "\n",
        "• Requirements:\n",
        "\n",
        "– Define a function get sublist(lst, start, end) that takes a list lst, a starting index\n",
        "start, and an ending index end as input and returns the sublist from start to end (inclusive).\n",
        "– Example: For the input [1, 2, 3, 4, 5, 6] with start=2 and end=4, the output should\n",
        "be [3, 4, 5]."
      ]
    },
    {
      "cell_type": "code",
      "execution_count": null,
      "metadata": {
        "id": "9_OL3XbUfTjE",
        "colab": {
          "base_uri": "https://localhost:8080/"
        },
        "outputId": "b1e20650-537c-4e1f-bb89-2f5b0a51520a"
      },
      "outputs": [
        {
          "output_type": "stream",
          "name": "stdout",
          "text": [
            "[33, 43, 54]\n"
          ]
        }
      ],
      "source": [
        "def get_sublist(lst, start, end):\n",
        "    \"\"\"\n",
        "    Returns a sublist from a given list, starting from a specified index and ending at another specified index.\n",
        "    Parameters:\n",
        "        lst (list): The input list.\n",
        "        start (int): The starting index (inclusive).\n",
        "        end (int): The ending index (inclusive).\n",
        "    Returns:\n",
        "        list: A new list containing elements from the specified range.\n",
        "    \"\"\"\n",
        "    return lst[start:end+1]  # +1 to include the end index\n",
        "list = [11, 22, 33, 43, 54, 67]\n",
        "result = get_sublist(list, 2, 4)\n",
        "print(result)"
      ]
    },
    {
      "cell_type": "markdown",
      "metadata": {
        "id": "OdNgIs0wjdCV"
      },
      "source": [
        "Reverse a List Using Slicing:\n",
        "\n",
        "Write a Python function that reverses a list using slicing.\n",
        "\n",
        "• Requirements:\n",
        "\n",
        "– Define a function reverse list(lst) that takes a list lst and returns a reversed list using\n",
        "slicing.\n",
        "– Example: For the input [1, 2, 3, 4, 5], the output should be [5, 4, 3, 2, 1]."
      ]
    },
    {
      "cell_type": "code",
      "execution_count": null,
      "metadata": {
        "id": "q2YO9A3Ujqco",
        "colab": {
          "base_uri": "https://localhost:8080/"
        },
        "outputId": "8460a80c-59e3-4a88-d8a9-8841b39facf8"
      },
      "outputs": [
        {
          "output_type": "stream",
          "name": "stdout",
          "text": [
            "[56, 45, 34, 23, 12]\n"
          ]
        }
      ],
      "source": [
        "def reverse_list(lst):\n",
        "    \"\"\"\n",
        "    Reverses a list using slicing.\n",
        "    Parameters:\n",
        "        lst (list): The input list.\n",
        "    Returns:\n",
        "        list: A new list with elements in reverse order.\n",
        "    \"\"\"\n",
        "    return lst[::-1]  # Slicing with step -1 reverses the list\n",
        "# Example usage\n",
        "list = [12, 23, 34, 45, 56]\n",
        "result = reverse_list(list)\n",
        "print(result)"
      ]
    },
    {
      "cell_type": "markdown",
      "metadata": {
        "id": "MzAx-_wBkW5-"
      },
      "source": [
        "4. Remove the First and Last Elements:\n",
        "\n",
        "Write a Python function that removes the first and last elements of a list and returns the resulting sublist.\n",
        "\n",
        "• Requirements:\n",
        "\n",
        "– Define a function remove first last(lst) that takes a list lst and returns a sublist without\n",
        "the first and last elements using slicing.\n",
        "– Example: For the input [1, 2, 3, 4, 5], the output should be [2, 3, 4]."
      ]
    },
    {
      "cell_type": "code",
      "execution_count": null,
      "metadata": {
        "id": "6SCxzmMDkeYq",
        "colab": {
          "base_uri": "https://localhost:8080/"
        },
        "outputId": "0dae9555-1efc-4f71-cbce-664aa6848597"
      },
      "outputs": [
        {
          "output_type": "stream",
          "name": "stdout",
          "text": [
            "[24, 36, 47]\n"
          ]
        }
      ],
      "source": [
        "def remove_first_last(lst):\n",
        "    \"\"\"\n",
        "    Removes the first and last elements of a list and returns the resulting sublist.\n",
        "    Parameters:\n",
        "        lst (list): The input list.\n",
        "    Returns:\n",
        "        list: A new list without the first and last elements.\n",
        "    \"\"\"\n",
        "    return lst[1:-1]\n",
        "list = [12, 24, 36, 47, 59]\n",
        "result = remove_first_last(list)\n",
        "print(result)"
      ]
    },
    {
      "cell_type": "markdown",
      "metadata": {
        "id": "GVhNxZtslNHS"
      },
      "source": [
        "5. Get the First n Elements:\n",
        "\n",
        "Write a Python function that extracts the first n elements from a list.\n",
        "\n",
        "• Requirements:\n",
        "\n",
        "– Define a function get first n(lst, n) that takes a list lst and an integer n as input and\n",
        "returns the first n elements of the list using slicing.\n",
        "– Example: For the input [1, 2, 3, 4, 5] with n=3, the output should be [1, 2, 3]."
      ]
    },
    {
      "cell_type": "code",
      "execution_count": null,
      "metadata": {
        "id": "sVzWL6ZXlSFM",
        "colab": {
          "base_uri": "https://localhost:8080/"
        },
        "outputId": "f160726f-cc34-4339-b934-17aef40a44e6"
      },
      "outputs": [
        {
          "output_type": "stream",
          "name": "stdout",
          "text": [
            "[11, 22, 33]\n"
          ]
        }
      ],
      "source": [
        "def get_first_n(lst, n):\n",
        "    \"\"\"\n",
        "    Extracts the first n elements from a list.\n",
        "    Parameters:\n",
        "        lst (list): The input list.\n",
        "        n (int): The number of elements to extract.\n",
        "    Returns:\n",
        "        list: A new list containing the first n elements.\n",
        "    \"\"\"\n",
        "    return lst[:n]\n",
        "list = [11, 22, 33, 44, 55]\n",
        "n = 3\n",
        "result = get_first_n(list, n)\n",
        "print(result)"
      ]
    },
    {
      "cell_type": "markdown",
      "metadata": {
        "id": "R0J8DEYemZMg"
      },
      "source": [
        "6. Extract Elements from the End:\n",
        "\n",
        "Write a Python function that extracts the last n elements of a list using slicing.\n",
        "\n",
        "• Requirements:\n",
        "\n",
        "– Define a function get last n(lst, n) that takes a list lst and an integer n as input and\n",
        "returns the last n elements of the list.\n",
        "– Example: For the input [1, 2, 3, 4, 5] with n=2, the output should be [4, 5]."
      ]
    },
    {
      "cell_type": "code",
      "execution_count": null,
      "metadata": {
        "id": "NXiJutubmj0A",
        "colab": {
          "base_uri": "https://localhost:8080/"
        },
        "outputId": "c7a52507-ce2b-437a-83d7-b665bc6d087a"
      },
      "outputs": [
        {
          "output_type": "stream",
          "name": "stdout",
          "text": [
            "[44, 55]\n"
          ]
        }
      ],
      "source": [
        "def get_last_n(lst, n):\n",
        "    \"\"\"\n",
        "    Extracts the last n elements from a list.\n",
        "    Parameters:\n",
        "        lst (list): The input list.\n",
        "        n (int): The number of elements to extract from the end.\n",
        "    Returns:\n",
        "        list: A new list containing the last n elements.\n",
        "    \"\"\"\n",
        "    return lst[-n:]\n",
        "list = [14, 25, 33, 44, 55]\n",
        "n = 2\n",
        "result = get_last_n(list, n)\n",
        "print(result)"
      ]
    },
    {
      "cell_type": "markdown",
      "metadata": {
        "id": "Uy5x3l8BptlA"
      },
      "source": [
        "7. Extract Elements in Reverse Order:\n",
        "\n",
        "Write a Python function that extracts a list of elements in reverse order starting from the second-to-last\n",
        "element and skipping one element in between.\n",
        "\n",
        "• Requirements:\n",
        "\n",
        "– Define a function reverse skip(lst) that takes a list lst and returns a new list containing\n",
        "every second element starting from the second-to-last, moving backward.\n",
        "– Example: For the input [1, 2, 3, 4, 5, 6], the output should be [5, 3, 1]."
      ]
    },
    {
      "cell_type": "code",
      "execution_count": null,
      "metadata": {
        "id": "1sS4Qmdfp6JH",
        "colab": {
          "base_uri": "https://localhost:8080/"
        },
        "outputId": "41bae967-de88-40c5-c1bf-aa978e0cf341"
      },
      "outputs": [
        {
          "output_type": "stream",
          "name": "stdout",
          "text": [
            "[55, 36, 13]\n"
          ]
        }
      ],
      "source": [
        "def reverse_skip(lst):\n",
        "    \"\"\"\n",
        "    Extracts elements in reverse order, starting from the second-to-last element\n",
        "    and skipping one element in between.\n",
        "    Parameters:\n",
        "        lst (list): The input list.\n",
        "    Returns:\n",
        "        list: A new list containing every second element in reverse order.\n",
        "    \"\"\"\n",
        "    return lst[-2::-2]\n",
        "list = [13, 25, 36, 45, 55, 66]\n",
        "result = reverse_skip(list)\n",
        "print(result)"
      ]
    },
    {
      "cell_type": "markdown",
      "metadata": {
        "id": "4ARmMdYUrOvf"
      },
      "source": [
        "4.3 Exercise on Nested List:\n",
        "\n",
        "1. Flatten a Nested List:\n",
        "\n",
        "Write a Python function that takes a nested list and flattens it into a single list, where all the elements\n",
        "are in a single dimension.\n",
        "\n",
        "• Requirements:\n",
        "\n",
        "– Define a function flatten(lst) that takes a nested list lst and returns a flattened version\n",
        "of the list.\n",
        "– Example: For the input [[1, 2], [3, 4], [5]], the output should be [1, 2, 3, 4, 5]."
      ]
    },
    {
      "cell_type": "code",
      "execution_count": null,
      "metadata": {
        "id": "raZqZpQxrVin",
        "colab": {
          "base_uri": "https://localhost:8080/"
        },
        "outputId": "c051ede0-04ed-4d0f-91e5-2577d8ae0249"
      },
      "outputs": [
        {
          "output_type": "stream",
          "name": "stdout",
          "text": [
            "[1, 2, 3, 4, 5]\n"
          ]
        }
      ],
      "source": [
        "def flatten(lst):\n",
        "    \"\"\"\n",
        "    Flattens a nested list into a single list without using recursion.\n",
        "    Parameters:\n",
        "        lst (list): The nested list to flatten.\n",
        "    Returns:\n",
        "        list: A new list containing all elements from the nested list in a single dimension.\n",
        "    \"\"\"\n",
        "    flat_list = sum(lst, [])\n",
        "    return flat_list\n",
        "list = [[1, 2], [3, 4], [5]]\n",
        "result = flatten(list)\n",
        "print(result)"
      ]
    },
    {
      "cell_type": "markdown",
      "metadata": {
        "id": "QmwOATaDvx8b"
      },
      "source": [
        "2. Accessing Nested List Elements:\n",
        "\n",
        "Write a Python function that extracts a specific element from a nested list given its indices.\n",
        "\n",
        "• Requirements:\n",
        "\n",
        "– Define a function access nested element(lst, indices) that takes a nested list lst and\n",
        "a list of indices indices, and returns the element at that position.\n",
        "– Example: For the input lst = [[1, 2, 3], [4, 5, 6], [7, 8, 9]] with indices = [1,\n",
        "2], the output should be 6."
      ]
    },
    {
      "cell_type": "code",
      "execution_count": null,
      "metadata": {
        "id": "_1V2T2usv1uv",
        "colab": {
          "base_uri": "https://localhost:8080/"
        },
        "outputId": "3d028e81-f7c8-4672-a69f-621ec8665a5e"
      },
      "outputs": [
        {
          "output_type": "stream",
          "name": "stdout",
          "text": [
            "9\n"
          ]
        }
      ],
      "source": [
        "def access_nested_element(lst, indices):\n",
        "    \"\"\"\n",
        "    Extracts a specific element from a nested list given its indices.\n",
        "    Parameters:\n",
        "        lst (list): The nested list.\n",
        "        indices (list): A list of indices representing the path to the desired element.\n",
        "    Returns:\n",
        "        any: The element at the specified indices.\n",
        "    \"\"\"\n",
        "    element = lst\n",
        "    for index in indices:\n",
        "        element = element[index]\n",
        "    return element\n",
        "nested_list = [[1, 2, 3], [4, 5, 6], [7, 8, 9]]\n",
        "indices = [2, 2]\n",
        "result = access_nested_element(nested_list, indices)\n",
        "print(result)"
      ]
    },
    {
      "cell_type": "markdown",
      "metadata": {
        "id": "PkDbGtKlw5Z9"
      },
      "source": [
        "3. Sum of All Elements in a Nested List:\n",
        "\n",
        "Write a Python function that calculates the sum of all the numbers in a nested list (regardless of depth).\n",
        "\n",
        "• Requirements:\n",
        "\n",
        "– Define a function sum nested(lst) that takes a nested list lst and returns the sum of all\n",
        "the elements.\n",
        "– Example: For the input [[1, 2], [3, [4, 5]], 6], the output should be 21."
      ]
    },
    {
      "cell_type": "code",
      "execution_count": null,
      "metadata": {
        "id": "kkE6of7CxR5k",
        "colab": {
          "base_uri": "https://localhost:8080/"
        },
        "outputId": "6b0e84dc-412a-4fdc-e8b3-2d6ce2f572f1"
      },
      "outputs": [
        {
          "output_type": "stream",
          "name": "stdout",
          "text": [
            "21\n"
          ]
        }
      ],
      "source": [
        "def sum_nested(lst):\n",
        "    total = 0\n",
        "    for item in lst:\n",
        "        # Check if item is a list\n",
        "        if isinstance(item, list):\n",
        "            total += sum_nested(item)  # Recursively sum nested lists\n",
        "        elif isinstance(item, (int, float)):  # Ensure item is a number\n",
        "            total += item\n",
        "    return total  # Explicitly return total\n",
        "\n",
        "nested_list = [[1, 2], [3, [4, 5]], 6]\n",
        "print(sum_nested(nested_list))\n",
        "\n"
      ]
    },
    {
      "cell_type": "code",
      "source": [
        "print(list)\n"
      ],
      "metadata": {
        "colab": {
          "base_uri": "https://localhost:8080/"
        },
        "id": "xVs5yy-S7m6a",
        "outputId": "13fde809-6cf2-4c09-d90f-aec584e62ce7"
      },
      "execution_count": null,
      "outputs": [
        {
          "output_type": "stream",
          "name": "stdout",
          "text": [
            "[[1, 2], [3, 4], [5]]\n"
          ]
        }
      ]
    },
    {
      "cell_type": "code",
      "execution_count": null,
      "metadata": {
        "id": "Kg3QI_soo-cw",
        "colab": {
          "base_uri": "https://localhost:8080/"
        },
        "outputId": "3a6d5108-c643-4882-a90a-f2218635bf49"
      },
      "outputs": [
        {
          "output_type": "stream",
          "name": "stdout",
          "text": [
            "[[1], [3], [4, 5]]\n"
          ]
        }
      ],
      "source": [
        "def remove_element(lst, elem):\n",
        "    result = []\n",
        "    for item in lst:\n",
        "        if isinstance(item, __builtins__.list):\n",
        "            filtered_sublist = remove_element(item, elem)\n",
        "            if filtered_sublist:\n",
        "                result.append(filtered_sublist)\n",
        "        elif item != elem:\n",
        "            result.append(item)\n",
        "    return result\n",
        "\n",
        "nested_list = [[1, 2], [3, 2], [4, 5]]\n",
        "element_to_remove = 2\n",
        "print(remove_element(nested_list, element_to_remove))\n"
      ]
    },
    {
      "cell_type": "markdown",
      "metadata": {
        "id": "_GCSwbZy6qat"
      },
      "source": [
        "5. Find the Maximum Element in a Nested List:\n",
        "\n",
        "Write a Python function that finds the maximum element in a nested list (regardless of depth).\n",
        "\n",
        "• Requirements:\n",
        "\n",
        "– Define a function find max(lst) that takes a nested list lst and returns the maximum\n",
        "element.\n",
        "– Example: For the input [[1, 2], [3, [4, 5]], 6], the output should be 6."
      ]
    },
    {
      "cell_type": "code",
      "execution_count": null,
      "metadata": {
        "id": "mmYsyB9m6p2h",
        "colab": {
          "base_uri": "https://localhost:8080/"
        },
        "outputId": "54d7b331-ae5e-489c-9446-e433dcd1498c"
      },
      "outputs": [
        {
          "output_type": "stream",
          "name": "stdout",
          "text": [
            "44\n"
          ]
        }
      ],
      "source": [
        "def find_max(lst):\n",
        "    max_val = float('-inf')\n",
        "    for item in lst:\n",
        "        if isinstance(item, __builtins__.list):\n",
        "            max_val = max(max_val, find_max(item))\n",
        "        else:\n",
        "            max_val = max(max_val, item)\n",
        "    return max_val\n",
        "\n",
        "nested_list = [[1, 2], [3, [44, 5]], 7]\n",
        "print(find_max(nested_list))\n",
        "\n"
      ]
    },
    {
      "cell_type": "markdown",
      "metadata": {
        "id": "LqQAqXeL8G-z"
      },
      "source": [
        "6. Count Occurrences of an Element in a Nested List:\n",
        "\n",
        "Write a Python function that counts how many times a specific element appears in a nested list.\n",
        "\n",
        "• Requirements:\n",
        "\n",
        "– Define a function count occurrences(lst, elem) that counts the occurrences of elem in\n",
        "the nested list lst.\n",
        "– Example: For the input lst = [[1, 2], [2, 3], [2, 4]] and elem = 2, the output should\n",
        "be 3."
      ]
    },
    {
      "cell_type": "code",
      "execution_count": null,
      "metadata": {
        "id": "r63rObu28Lis",
        "colab": {
          "base_uri": "https://localhost:8080/"
        },
        "outputId": "f9bf156e-93bd-4926-f626-e2f621436049"
      },
      "outputs": [
        {
          "output_type": "stream",
          "name": "stdout",
          "text": [
            "1\n"
          ]
        }
      ],
      "source": [
        "def count_occurrences(lst, elem):\n",
        "    count = 0\n",
        "    for item in lst:\n",
        "        if isinstance(item, __builtins__.list):\n",
        "            count += count_occurrences(item, elem)\n",
        "        elif item == elem:\n",
        "            count += 1\n",
        "    return count\n",
        "\n",
        "nested_list = [[1, 2], [2, 3], [2, 4]]\n",
        "element_to_count = 3\n",
        "print(count_occurrences(nested_list, element_to_count))\n"
      ]
    },
    {
      "cell_type": "markdown",
      "metadata": {
        "id": "P_PWR0TG8gKk"
      },
      "source": [
        "7. Flatten a List of Lists of Lists:\n",
        "\n",
        "Write a Python function that flattens a list of lists of lists into a single list, regardless of the depth.\n",
        "\n",
        "• Requirements:\n",
        "\n",
        "– Define a function deep flatten(lst) that takes a deeply nested list lst and returns a single\n",
        "flattened list.\n",
        "– Example: For the input [[[1, 2], [3, 4]], [[5, 6], [7, 8]]], the output should be\n",
        "[1, 2, 3, 4, 5, 6, 7, 8]."
      ]
    },
    {
      "cell_type": "code",
      "execution_count": null,
      "metadata": {
        "id": "pXV_DYjJ8kYa",
        "colab": {
          "base_uri": "https://localhost:8080/"
        },
        "outputId": "53f51745-38f0-4ad3-ade9-fd3a19117c8b"
      },
      "outputs": [
        {
          "output_type": "stream",
          "name": "stdout",
          "text": [
            "[1, 2, 3, 4, 5, 6, 7, 8]\n"
          ]
        }
      ],
      "source": [
        "def deep_flatten(lst):\n",
        "    flat_list = []\n",
        "    for item in lst:\n",
        "        if isinstance(item, __builtins__.list):\n",
        "            flat_list.extend(deep_flatten(item))\n",
        "        else:\n",
        "            flat_list.append(item)\n",
        "    return flat_list\n",
        "\n",
        "nested_list = [[[1, 2], [3, 4]], [[5, 6], [7, 8]]]\n",
        "print(deep_flatten(nested_list))\n"
      ]
    },
    {
      "cell_type": "markdown",
      "metadata": {
        "id": "AR4r1M538xvr"
      },
      "source": [
        "8. Nested List Average:\n",
        "Write a Python function that calculates the average of all elements in a nested list.\n",
        "• Requirements:\n",
        "– Define a function average nested(lst) that takes a nested list lst and returns the average\n",
        "of all the elements.\n",
        "– Example: For the input [[1, 2], [3, 4], [5, 6]], the output should be 3.5."
      ]
    },
    {
      "cell_type": "code",
      "execution_count": null,
      "metadata": {
        "id": "XBdUdEUe80RY",
        "colab": {
          "base_uri": "https://localhost:8080/"
        },
        "outputId": "14804001-330e-4812-dbc3-b5bc9826b71e"
      },
      "outputs": [
        {
          "output_type": "stream",
          "name": "stdout",
          "text": [
            "6.833333333333333\n"
          ]
        }
      ],
      "source": [
        "def sum_and_count(lst):\n",
        "    total = 0\n",
        "    count = 0\n",
        "    for item in lst:\n",
        "        if isinstance(item, __builtins__.list):\n",
        "            sub_total, sub_count = sum_and_count(item)\n",
        "            total += sub_total\n",
        "            count += sub_count\n",
        "        else:\n",
        "            total += item\n",
        "            count += 1\n",
        "    return total, count\n",
        "\n",
        "def average_nested(lst):\n",
        "    total, count = sum_and_count(lst)\n",
        "    return total / count if count > 0 else 0\n",
        "\n",
        "nested_list = [[1, 22], [3, 4], [5, 6]]\n",
        "print(average_nested(nested_list))\n"
      ]
    },
    {
      "cell_type": "markdown",
      "metadata": {
        "id": "a--pIyhP9ORv"
      },
      "source": [
        "Problem - 1: Array Creation:\n",
        "\n",
        "Complete the following Tasks:\n",
        "\n",
        "1. Initialize an empty array with size 2X2.\n",
        "2. Initialize an all one array with size 4X2.\n",
        "3. Return a new array of given shape and type, filled with fill value.{Hint: np.full}\n",
        "4. Return a new array of zeros with same shape and type as a given array.{Hint: np.zeros like}\n",
        "5. Return a new array of ones with same shape and type as a given array.{Hint: np.ones like}\n",
        "6. For an existing list new_list = [1,2,3,4] convert to an numpy array.{Hint: np.array()}"
      ]
    },
    {
      "cell_type": "code",
      "execution_count": null,
      "metadata": {
        "id": "akshOPdM9QTO",
        "colab": {
          "base_uri": "https://localhost:8080/"
        },
        "outputId": "e5591540-1615-4b1e-a69b-4c3c53b69f28"
      },
      "outputs": [
        {
          "output_type": "stream",
          "name": "stdout",
          "text": [
            "1. Empty Array (2x2):\n",
            " [[1.32177130e-316 0.00000000e+000]\n",
            " [2.14321575e-312 2.44029516e-312]] \n",
            "\n",
            "2. All Ones Array (4x2):\n",
            " [[1. 1.]\n",
            " [1. 1.]\n",
            " [1. 1.]\n",
            " [1. 1.]] \n",
            "\n",
            "3. Filled Array (3x3) with 7:\n",
            " [[7 7 7]\n",
            " [7 7 7]\n",
            " [7 7 7]] \n",
            "\n",
            "4. Zeros Like Reference Array:\n",
            " [[0 0]\n",
            " [0 0]] \n",
            "\n",
            "5. Ones Like Reference Array:\n",
            " [[1 1]\n",
            " [1 1]] \n",
            "\n",
            "6. Converted List to Numpy Array:\n",
            " [1 2 3 4] \n",
            "\n"
          ]
        }
      ],
      "source": [
        "import numpy as np\n",
        "# 1. set an empty array with size 2x2\n",
        "empty_array = np.empty((2,2))\n",
        "# 2.set an all-one array with size 4x2\n",
        "ones_array = np.ones((4,2))\n",
        "# 3. Return a new array of given shape and type, filled with a given value\n",
        "filled_array = np.full((3,3), 7)\n",
        "# 4. Return a new array of zeros with the same shape and type as a given array\n",
        "reference_array = np.array([[1, 2], [3, 4]])\n",
        "zeros_like_array = np.zeros_like(reference_array)\n",
        "# 5. Return a new array of ones with the same shape and type as a given array\n",
        "ones_like_array = np.ones_like(reference_array)\n",
        "# 6. Convert an existing list to a numpy array\n",
        "new_list = [1, 2, 3, 4]\n",
        "numpy_array = np.array(new_list)\n",
        "print(\"1. Empty Array (2x2):\\n\", empty_array, \"\\n\")\n",
        "print(\"2. All Ones Array (4x2):\\n\", ones_array, \"\\n\")\n",
        "print(\"3. Filled Array (3x3) with 7:\\n\", filled_array, \"\\n\")\n",
        "print(\"4. Zeros Like Reference Array:\\n\", zeros_like_array, \"\\n\")\n",
        "print(\"5. Ones Like Reference Array:\\n\", ones_like_array, \"\\n\")\n",
        "print(\"6. Converted List to Numpy Array:\\n\", numpy_array, \"\\n\")"
      ]
    },
    {
      "cell_type": "markdown",
      "metadata": {
        "id": "HZ2cI4Qt9hYb"
      },
      "source": [
        "Problem - 2: Array Manipulation: Numerical Ranges and Array indexing:\n",
        "\n",
        "Complete the following tasks:\n",
        "\n",
        "1. Create an array with values ranging from 10 to 49. {Hint:np.arrange()}.\n",
        "2. Create a 3X3 matrix with values ranging from 0 to 8.\n",
        "{Hint:look for np.reshape()}\n",
        "3. Create a 3X3 identity matrix.{Hint:np.eye()}\n",
        "4. Create a random array of size 30 and find the mean of the array.\n",
        "{Hint:check for np.random.random() and array.mean() function}\n",
        "5. Create a 10X10 array with random values and find the minimum and maximum values.\n",
        "6. Create a zero array of size 10 and replace 5th element with 1.\n",
        "7. Reverse an array arr = [1,2,0,0,4,0].\n",
        "8. Create a 2d array with 1 on border and 0 inside.\n",
        "9. Create a 8X8 matrix and fill it with a checkerboard pattern."
      ]
    },
    {
      "cell_type": "code",
      "execution_count": null,
      "metadata": {
        "id": "gYiabLJ0-JRo",
        "colab": {
          "base_uri": "https://localhost:8080/"
        },
        "outputId": "5c4f54c4-2e92-4775-f93f-91da6a6a1bff"
      },
      "outputs": [
        {
          "output_type": "stream",
          "name": "stdout",
          "text": [
            "1. Array with values from 10 to 49:\n",
            " [10 11 12 13 14 15 16 17 18 19 20 21 22 23 24 25 26 27 28 29 30 31 32 33\n",
            " 34 35 36 37 38 39 40 41 42 43 44 45 46 47 48 49] \n",
            "\n",
            "2. 3x3 Matrix with values from 0 to 8:\n",
            " [[0 1 2]\n",
            " [3 4 5]\n",
            " [6 7 8]] \n",
            "\n",
            "3. 3x3 Identity Matrix:\n",
            " [[1. 0. 0.]\n",
            " [0. 1. 0.]\n",
            " [0. 0. 1.]] \n",
            "\n",
            "4. Mean of a random array of size 30: 0.5829454249218062 \n",
            "\n",
            "5. 10x10 Random Matrix Min Value: 0.015265007688050947\n",
            "   10x10 Random Matrix Max Value: 0.9949927949649691 \n",
            "\n",
            "6. Zero Array with 5th element as 1:\n",
            " [0. 0. 0. 0. 1. 0. 0. 0. 0. 0.] \n",
            "\n",
            "7. Reversed Array:\n",
            " [0 4 0 0 2 1] \n",
            "\n",
            "8. 2D Array with border 1 and inside 0:\n",
            " [[1. 1. 1. 1. 1.]\n",
            " [1. 0. 0. 0. 1.]\n",
            " [1. 0. 0. 0. 1.]\n",
            " [1. 0. 0. 0. 1.]\n",
            " [1. 1. 1. 1. 1.]] \n",
            "\n",
            "9. 8x8 Checkerboard Pattern:\n",
            " [[0 1 0 1 0 1 0 1]\n",
            " [1 0 1 0 1 0 1 0]\n",
            " [0 1 0 1 0 1 0 1]\n",
            " [1 0 1 0 1 0 1 0]\n",
            " [0 1 0 1 0 1 0 1]\n",
            " [1 0 1 0 1 0 1 0]\n",
            " [0 1 0 1 0 1 0 1]\n",
            " [1 0 1 0 1 0 1 0]] \n",
            "\n"
          ]
        }
      ],
      "source": [
        "# 1. Create an array with values ranging from 10 to 49\n",
        "array_range = np.arange(10, 50)\n",
        "print(\"1. Array with values from 10 to 49:\\n\", array_range, \"\\n\")\n",
        "# 2. Create a 3x3 matrix with values ranging from 0 to 8\n",
        "matrix_3x3 = np.arange(9).reshape(3, 3)\n",
        "print(\"2. 3x3 Matrix with values from 0 to 8:\\n\", matrix_3x3, \"\\n\")\n",
        "# 3. Create a 3x3 identity matrix\n",
        "identity_matrix = np.eye(3)\n",
        "print(\"3. 3x3 Identity Matrix:\\n\", identity_matrix, \"\\n\")\n",
        "# 4. Create a random array of size 30 and find the mean of the array\n",
        "random_array_30 = np.random.random(30)\n",
        "mean_value = random_array_30.mean()\n",
        "print(\"4. Mean of a random array of size 30:\", mean_value, \"\\n\")\n",
        "# 5. Create a 10x10 array with random values and find the min and max values\n",
        "random_matrix_10x10 = np.random.random((10, 10))\n",
        "min_value = random_matrix_10x10.min()\n",
        "max_value = random_matrix_10x10.max()\n",
        "print(\"5. 10x10 Random Matrix Min Value:\", min_value)\n",
        "print(\"   10x10 Random Matrix Max Value:\", max_value, \"\\n\")\n",
        "# 6. Create a zero array of size 10 and replace the 5th element with 1\n",
        "zero_array = np.zeros(10)\n",
        "zero_array[4] = 1\n",
        "print(\"6. Zero Array with 5th element as 1:\\n\", zero_array, \"\\n\")\n",
        "# 7. Reverse an array arr = [1,2,0,0,4,0]\n",
        "arr = np.array([1,2,0,0,4,0])\n",
        "reversed_arr = arr[::-1]\n",
        "print(\"7. Reversed Array:\\n\", reversed_arr, \"\\n\")\n",
        "# 8. Create a 2D array with 1 on the border and 0 inside\n",
        "border_array = np.ones((5,5))\n",
        "border_array[1:-1, 1:-1] = 0\n",
        "print(\"8. 2D Array with border 1 and inside 0:\\n\", border_array, \"\\n\")\n",
        "# 9. Create an 8x8 matrix and fill it with a checkerboard pattern\n",
        "checkerboard = np.zeros((8,8), dtype=int)\n",
        "checkerboard[1::2, ::2] = 1  # Filling 1s at alternate positions\n",
        "checkerboard[::2, 1::2] = 1\n",
        "print(\"9. 8x8 Checkerboard Pattern:\\n\", checkerboard, \"\\n\")"
      ]
    },
    {
      "cell_type": "markdown",
      "metadata": {
        "id": "NCsRoHp7_Eie"
      },
      "source": [
        "Problem - 3: Array Operations:\n",
        "\n",
        "For the following arrays:\n",
        "\n",
        "x = np.array([[1,2],[3,5]]) and y = np.array([[5,6],[7,8]]);\n",
        "v = np.array([9,10]) and w = np.array([11,12]);\n",
        "Complete all the task using numpy:\n",
        "1. Add the two array.\n",
        "2. Subtract the two array.\n",
        "3. Multiply the array with any integers of your choice.\n",
        "4. Find the square of each element of the array.\n",
        "5. Find the dot product between: v(and)w ; x(and)v ; x(and)y.\n",
        "6. Concatenate x(and)y along row and Concatenate v(and)w along column.\n",
        "{Hint:try np.concatenate() or np.vstack() functions.\n",
        "7. Concatenate x(and)v; if you get an error, observe and explain why did you get the error?"
      ]
    },
    {
      "cell_type": "code",
      "execution_count": null,
      "metadata": {
        "id": "7t9Knmwo_Tf8",
        "colab": {
          "base_uri": "https://localhost:8080/"
        },
        "outputId": "c5442441-bf37-4fd5-e5bb-39194a54edf2"
      },
      "outputs": [
        {
          "output_type": "stream",
          "name": "stdout",
          "text": [
            "1. Sum of x and y:\n",
            " [[ 6  8]\n",
            " [10 13]] \n",
            "\n",
            "2. Difference of x and y:\n",
            " [[-4 -4]\n",
            " [-4 -3]] \n",
            "\n",
            "3. x multiplied by 3:\n",
            " [[ 3  6]\n",
            " [ 9 15]] \n",
            "\n",
            "4. Square of elements in x:\n",
            " [[ 1  4]\n",
            " [ 9 25]] \n",
            "\n",
            "5. Dot product v . w: 219\n",
            "   Dot product x . v:\n",
            " [29 77]\n",
            "   Dot product x . y:\n",
            " [[19 22]\n",
            " [50 58]] \n",
            "\n",
            "6. Concatenation of x and y along rows:\n",
            " [[1 2]\n",
            " [3 5]\n",
            " [5 6]\n",
            " [7 8]] \n",
            "\n",
            "   Concatenation of v and w along columns:\n",
            " [[ 9 11]\n",
            " [10 12]] \n",
            "\n",
            "7. Attempt to Concatenate x and v (Expected Error):\n",
            " all the input arrays must have same number of dimensions, but the array at index 0 has 2 dimension(s) and the array at index 1 has 1 dimension(s) \n",
            "\n"
          ]
        }
      ],
      "source": [
        "# Define the given arrays\n",
        "x = np.array([[1, 2], [3, 5]])\n",
        "y = np.array([[5, 6], [7, 8]])\n",
        "v = np.array([9, 10])\n",
        "w = np.array([11, 12])\n",
        "# 1. Add the two arrays x and y\n",
        "sum_xy = x + y\n",
        "print(\"1. Sum of x and y:\\n\", sum_xy, \"\\n\")\n",
        "# 2. Subtract the two arrays x and y\n",
        "diff_xy = x - y\n",
        "print(\"2. Difference of x and y:\\n\", diff_xy, \"\\n\")\n",
        "\n",
        "# 3. Multiply the array x with an integer (e.g., 3)\n",
        "multiplied_x = x * 3\n",
        "print(\"3. x multiplied by 3:\\n\", multiplied_x, \"\\n\")\n",
        "# 4. Find the square of each element of x\n",
        "square_x = np.square(x)\n",
        "print(\"4. Square of elements in x:\\n\", square_x, \"\\n\")\n",
        "\n",
        "# 5. Find the dot product between:\n",
        "dot_vw = np.dot(v, w)  # v . w\n",
        "dot_xv = np.dot(x, v)  # x . v\n",
        "dot_xy = np.dot(x, y)  # x . y\n",
        "print(\"5. Dot product v . w:\", dot_vw)\n",
        "print(\"   Dot product x . v:\\n\", dot_xv)\n",
        "print(\"   Dot product x . y:\\n\", dot_xy, \"\\n\")\n",
        "# 6. Concatenate x and y along rows & v and w along columns\n",
        "concat_xy_row = np.concatenate((x, y), axis=0)  # Row-wise concatenation\n",
        "concat_vw_col = np.column_stack((v, w))  # Column-wise concatenation\n",
        "print(\"6. Concatenation of x and y along rows:\\n\", concat_xy_row, \"\\n\")\n",
        "print(\"   Concatenation of v and w along columns:\\n\", concat_vw_col, \"\\n\")\n",
        "# 7. Attempt to concatenate x and v\n",
        "try:\n",
        "    concat_xv = np.concatenate((x, v), axis=0)  # This should raise an error\n",
        "except ValueError as e:\n",
        "    concat_xv = str(e)  # Capture the error message\n",
        "print(\"7. Attempt to Concatenate x and v (Expected Error):\\n\", concat_xv, \"\\n\")"
      ]
    },
    {
      "cell_type": "markdown",
      "metadata": {
        "id": "FG_ZOe3G__lv"
      },
      "source": [
        "Problem - 4: Matrix Operations:\n",
        "\n",
        "• For the following arrays:\n",
        "\n",
        "A = np.array([[3,4],[7,8]]) and B = np.array([[5,3],[2,1]]);\n",
        "Prove following with Numpy:\n",
        "1. Prove A.A−1 = I.\n",
        "2. Prove AB ̸= BA.\n",
        "3. Prove (AB)\n",
        "\n",
        "T = BTAT\n",
        ".\n",
        "\n",
        "• Solve the following system of Linear equation using Inverse Methods.\n",
        "\n",
        "2x − 3y + z = −1\n",
        "x − y + 2z = −3\n",
        "3x + y − z = 9\n",
        "\n",
        "{Hint: First use Numpy array to represent the equation in Matrix form. Then Solve for: AX = B}\n",
        "\n",
        "• Now: solve the above equation using np.linalg.inv function.{Explore more about ”linalg” func-\n",
        "tion of Numpy}"
      ]
    },
    {
      "cell_type": "code",
      "execution_count": null,
      "metadata": {
        "id": "pNUdCHPAABnS",
        "colab": {
          "base_uri": "https://localhost:8080/"
        },
        "outputId": "6e814715-2944-4279-822c-a667c3703b6b"
      },
      "outputs": [
        {
          "output_type": "stream",
          "name": "stdout",
          "text": [
            "1. A * A⁻¹ = Identity Matrix:\n",
            " [[1.00000000e+00 0.00000000e+00]\n",
            " [1.77635684e-15 1.00000000e+00]] \n",
            "\n",
            "2. AB ≠ BA (Matrix Multiplication is not commutative): False \n",
            "\n",
            "3. (AB)^T = B^T * A^T (Matrix Transpose Property): True \n",
            "\n",
            "4. Solution to the system of linear equations using Inverse Method:\n",
            " [ 2.  1. -2.]\n"
          ]
        }
      ],
      "source": [
        "# Define the given matrices A and B\n",
        "A = np.array([[3, 4], [7, 8]])\n",
        "B = np.array([[5, 3], [2, 1]])\n",
        "# 1. Prove A * A⁻¹ = I\n",
        "A_inv = np.linalg.inv(A)  # Compute inverse of A\n",
        "identity_matrix = np.dot(A, A_inv)  # A * A⁻¹\n",
        "print(\"1. A * A⁻¹ = Identity Matrix:\\n\", identity_matrix, \"\\n\")\n",
        "# 2. Prove AB ≠ BA\n",
        "AB = np.dot(A, B)\n",
        "BA = np.dot(B, A)\n",
        "is_AB_equal_BA = np.array_equal(AB, BA)  # Check if AB == BA\n",
        "print(\"2. AB ≠ BA (Matrix Multiplication is not commutative):\", is_AB_equal_BA, \"\\n\")\n",
        "\n",
        "# 3. Prove (AB)^T = B^T * A^T\n",
        "AB_T = np.transpose(AB)  # (AB)^T\n",
        "B_T_A_T = np.dot(np.transpose(B), np.transpose(A))  # B^T * A^T\n",
        "is_transpose_property_valid = np.array_equal(AB_T, B_T_A_T)  # Check if (AB)^T == B^T * A^T\n",
        "print(\"3. (AB)^T = B^T * A^T (Matrix Transpose Property):\", is_transpose_property_valid, \"\\n\")\n",
        "# Solve the system of linear equations using inverse method\n",
        "# Representing equations in matrix form: AX = B\n",
        "A_eq = np.array([[2, -3, 1], [1, -1, 2], [3, 1, -1]])\n",
        "B_eq = np.array([-1, -3, 9])\n",
        "# Solve for X using inverse method\n",
        "A_inv_eq = np.linalg.inv(A_eq)  # Compute inverse of A_eq\n",
        "X_solution = np.dot(A_inv_eq, B_eq)  # X = A⁻¹ * B\n",
        "print(\"4. Solution to the system of linear equations using Inverse Method:\\n\", X_solution)"
      ]
    },
    {
      "cell_type": "markdown",
      "metadata": {
        "id": "FBhfQkrxA2i3"
      },
      "source": [
        "1. Element-wise Addition:\n",
        "\n",
        "• Using Python Lists, perform element-wise addition of two lists of size 1, 000, 000. Measure\n",
        "and Print the time taken for this operation.\n",
        "\n",
        "• Using Numpy Arrays, Repeat the calculation and measure and print the time taken for\n",
        "this operation."
      ]
    },
    {
      "cell_type": "code",
      "execution_count": null,
      "metadata": {
        "id": "vIxCx8jpA69K",
        "colab": {
          "base_uri": "https://localhost:8080/"
        },
        "outputId": "7c344822-fc00-48e1-f7c7-994071ec1ba2"
      },
      "outputs": [
        {
          "output_type": "stream",
          "name": "stdout",
          "text": [
            "Element-wise Addition - Python List Time: 0.197690 sec\n",
            "Element-wise Addition - NumPy Array Time: 0.008770 sec\n",
            "\n"
          ]
        }
      ],
      "source": [
        "import numpy as np\n",
        "import time\n",
        "# Define size parameters\n",
        "size = 1_000_000  # 1 million elements\n",
        "matrix_size = 1000  # 1000x1000 matrix\n",
        "# Generate random data for lists and arrays\n",
        "list1 = [i for i in range(size)]\n",
        "list2 = [i for i in range(size)]\n",
        "array1 = np.arange(size)\n",
        "array2 = np.arange(size)\n",
        "# 1. Element-wise Addition\n",
        "# Using Python lists\n",
        "start_time = time.time()\n",
        "list_addition = [list1[i] + list2[i] for i in range(size)]\n",
        "list_add_time = time.time() - start_time\n",
        "# Using NumPy arrays\n",
        "start_time = time.time()\n",
        "array_addition = array1 + array2\n",
        "array_add_time = time.time() - start_time\n",
        "print(f\"Element-wise Addition - Python List Time: {list_add_time:.6f} sec\")\n",
        "print(f\"Element-wise Addition - NumPy Array Time: {array_add_time:.6f} sec\\n\")"
      ]
    },
    {
      "cell_type": "markdown",
      "metadata": {
        "id": "x5fBx1lyCDis"
      },
      "source": [
        "2. Element-wise Multiplication\n",
        "\n",
        "• Using Python Lists, perform element-wise multiplication of two lists of size 1, 000, 000.\n",
        "Measure and Print the time taken for this operation.\n",
        "\n",
        "• Using Numpy Arrays, Repeat the calculation and measure and print the time taken for\n",
        "this operation."
      ]
    },
    {
      "cell_type": "code",
      "execution_count": null,
      "metadata": {
        "id": "9Zns_m4PCJA3",
        "colab": {
          "base_uri": "https://localhost:8080/"
        },
        "outputId": "be596103-2918-4e76-a8dc-3d2432b919d6"
      },
      "outputs": [
        {
          "output_type": "stream",
          "name": "stdout",
          "text": [
            "Element-wise Multiplication - Python List Time: 0.241016 sec\n",
            "Element-wise Multiplication - NumPy Array Time: 0.018758 sec\n",
            "\n"
          ]
        }
      ],
      "source": [
        "# 2. Element-wise Multiplication\n",
        "# Using Python lists\n",
        "start_time = time.time()\n",
        "list_multiplication = [list1[i] * list2[i] for i in range(size)]\n",
        "list_mult_time = time.time() - start_time\n",
        "# Using NumPy arrays\n",
        "start_time = time.time()\n",
        "array_multiplication = array1 * array2\n",
        "array_mult_time = time.time() - start_time\n",
        "print(f\"Element-wise Multiplication - Python List Time: {list_mult_time:.6f} sec\")\n",
        "print(f\"Element-wise Multiplication - NumPy Array Time: {array_mult_time:.6f} sec\\n\")"
      ]
    },
    {
      "cell_type": "markdown",
      "metadata": {
        "id": "JGoVLiwRCZ65"
      },
      "source": [
        "3. Dot Product\n",
        "\n",
        "• Using Python Lists, compute the dot product of two lists of size 1, 000, 000. Measure and\n",
        "Print the time taken for this operation.\n",
        "\n",
        "• Using Numpy Arrays, Repeat the calculation and measure and print the time taken for\n",
        "this operation."
      ]
    },
    {
      "cell_type": "code",
      "execution_count": null,
      "metadata": {
        "id": "NdzpvsmRChkv",
        "colab": {
          "base_uri": "https://localhost:8080/"
        },
        "outputId": "0f5e209d-384e-4faa-9c97-8259cfc533f2"
      },
      "outputs": [
        {
          "output_type": "stream",
          "name": "stdout",
          "text": [
            "Dot Product - Python List Time: 0.099680 sec\n",
            "Dot Product - NumPy Array Time: 0.002456 sec\n",
            "\n"
          ]
        }
      ],
      "source": [
        "#3.Dot Product\n",
        "# Using Python lists\n",
        "start_time = time.time()\n",
        "dot_product_list = sum(list1[i] * list2[i] for i in range(size))\n",
        "list_dot_time = time.time() - start_time\n",
        "# Using NumPy arrays\n",
        "start_time = time.time()\n",
        "dot_product_array = np.dot(array1, array2)\n",
        "array_dot_time = time.time() - start_time\n",
        "print(f\"Dot Product - Python List Time: {list_dot_time:.6f} sec\")\n",
        "print(f\"Dot Product - NumPy Array Time: {array_dot_time:.6f} sec\\n\")\n"
      ]
    },
    {
      "cell_type": "markdown",
      "metadata": {
        "id": "xL7t1KZVCvnC"
      },
      "source": [
        "4. Matrix Multiplication\n",
        "\n",
        "• Using Python lists, perform matrix multiplication of two matrices of size 1000x1000. Mea-\n",
        "sure and print the time taken for this operation.\n",
        "\n",
        "• Using NumPy arrays, perform matrix multiplication of two matrices of size 1000x1000.\n",
        "Measure and print the time taken for this operation."
      ]
    },
    {
      "cell_type": "code",
      "execution_count": null,
      "metadata": {
        "id": "xpba3MJ-Cxbv",
        "colab": {
          "base_uri": "https://localhost:8080/"
        },
        "outputId": "2fa622d3-0abf-44f0-c012-6ffafb7af4bd"
      },
      "outputs": [
        {
          "output_type": "stream",
          "name": "stdout",
          "text": [
            "Matrix Multiplication (1000x1000) - NumPy Array Time: 2.264826 sec\n",
            "Matrix Multiplication using Python Lists skipped due to slow execution.\n"
          ]
        }
      ],
      "source": [
        "# 4. Matrix Multiplication (Skipping Python Lists Due to Slow Execution)\n",
        "# Generate random 1000x1000 matrices for NumPy\n",
        "array_matrix1 = np.arange(matrix_size**2).reshape(matrix_size, matrix_size)\n",
        "array_matrix2 = np.arange(matrix_size**2).reshape(matrix_size, matrix_size)\n",
        "# Using NumPy arrays\n",
        "start_time = time.time()\n",
        "array_matrix_result = np.dot(array_matrix1, array_matrix2)\n",
        "array_matrix_time = time.time() - start_time\n",
        "print(f\"Matrix Multiplication (1000x1000) - NumPy Array Time: {array_matrix_time:.6f} sec\")\n",
        "print(\"Matrix Multiplication using Python Lists skipped due to slow execution.\")"
      ]
    }
  ],
  "metadata": {
    "colab": {
      "provenance": []
    },
    "kernelspec": {
      "display_name": "Python 3",
      "name": "python3"
    },
    "language_info": {
      "name": "python"
    }
  },
  "nbformat": 4,
  "nbformat_minor": 0
}